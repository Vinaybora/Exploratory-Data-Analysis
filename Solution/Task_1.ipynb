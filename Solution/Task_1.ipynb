{
 "cells": [
  {
   "cell_type": "code",
   "execution_count": 1,
   "id": "124a7b2d-1e98-4b2e-97e4-ef5d1760da75",
   "metadata": {},
   "outputs": [],
   "source": [
    "import pandas as pd"
   ]
  },
  {
   "cell_type": "code",
   "execution_count": 2,
   "id": "c3650eb9-b9e6-481f-9130-ecee7b64ee99",
   "metadata": {},
   "outputs": [],
   "source": [
    "df=pd.read_csv(\"rounds2.csv\",encoding='latin-1')"
   ]
  },
  {
   "cell_type": "code",
   "execution_count": 3,
   "id": "1a0d0768-8384-4d79-86c8-ea593f8ab783",
   "metadata": {},
   "outputs": [
    {
     "data": {
      "text/html": [
       "<div>\n",
       "<style scoped>\n",
       "    .dataframe tbody tr th:only-of-type {\n",
       "        vertical-align: middle;\n",
       "    }\n",
       "\n",
       "    .dataframe tbody tr th {\n",
       "        vertical-align: top;\n",
       "    }\n",
       "\n",
       "    .dataframe thead th {\n",
       "        text-align: right;\n",
       "    }\n",
       "</style>\n",
       "<table border=\"1\" class=\"dataframe\">\n",
       "  <thead>\n",
       "    <tr style=\"text-align: right;\">\n",
       "      <th></th>\n",
       "      <th>company_permalink</th>\n",
       "      <th>funding_round_permalink</th>\n",
       "      <th>funding_round_type</th>\n",
       "      <th>funding_round_code</th>\n",
       "      <th>funded_at</th>\n",
       "      <th>raised_amount_usd</th>\n",
       "    </tr>\n",
       "  </thead>\n",
       "  <tbody>\n",
       "    <tr>\n",
       "      <th>0</th>\n",
       "      <td>/organization/-fame</td>\n",
       "      <td>/funding-round/9a01d05418af9f794eebff7ace91f638</td>\n",
       "      <td>venture</td>\n",
       "      <td>B</td>\n",
       "      <td>05-01-2015</td>\n",
       "      <td>10000000.0</td>\n",
       "    </tr>\n",
       "    <tr>\n",
       "      <th>1</th>\n",
       "      <td>/ORGANIZATION/-QOUNTER</td>\n",
       "      <td>/funding-round/22dacff496eb7acb2b901dec1dfe5633</td>\n",
       "      <td>venture</td>\n",
       "      <td>A</td>\n",
       "      <td>14-10-2014</td>\n",
       "      <td>NaN</td>\n",
       "    </tr>\n",
       "    <tr>\n",
       "      <th>2</th>\n",
       "      <td>/organization/-qounter</td>\n",
       "      <td>/funding-round/b44fbb94153f6cdef13083530bb48030</td>\n",
       "      <td>seed</td>\n",
       "      <td>NaN</td>\n",
       "      <td>01-03-2014</td>\n",
       "      <td>700000.0</td>\n",
       "    </tr>\n",
       "    <tr>\n",
       "      <th>3</th>\n",
       "      <td>/ORGANIZATION/-THE-ONE-OF-THEM-INC-</td>\n",
       "      <td>/funding-round/650b8f704416801069bb178a1418776b</td>\n",
       "      <td>venture</td>\n",
       "      <td>B</td>\n",
       "      <td>30-01-2014</td>\n",
       "      <td>3406878.0</td>\n",
       "    </tr>\n",
       "    <tr>\n",
       "      <th>4</th>\n",
       "      <td>/organization/0-6-com</td>\n",
       "      <td>/funding-round/5727accaeaa57461bd22a9bdd945382d</td>\n",
       "      <td>venture</td>\n",
       "      <td>A</td>\n",
       "      <td>19-03-2008</td>\n",
       "      <td>2000000.0</td>\n",
       "    </tr>\n",
       "  </tbody>\n",
       "</table>\n",
       "</div>"
      ],
      "text/plain": [
       "                     company_permalink  \\\n",
       "0                  /organization/-fame   \n",
       "1               /ORGANIZATION/-QOUNTER   \n",
       "2               /organization/-qounter   \n",
       "3  /ORGANIZATION/-THE-ONE-OF-THEM-INC-   \n",
       "4                /organization/0-6-com   \n",
       "\n",
       "                           funding_round_permalink funding_round_type  \\\n",
       "0  /funding-round/9a01d05418af9f794eebff7ace91f638            venture   \n",
       "1  /funding-round/22dacff496eb7acb2b901dec1dfe5633            venture   \n",
       "2  /funding-round/b44fbb94153f6cdef13083530bb48030               seed   \n",
       "3  /funding-round/650b8f704416801069bb178a1418776b            venture   \n",
       "4  /funding-round/5727accaeaa57461bd22a9bdd945382d            venture   \n",
       "\n",
       "  funding_round_code   funded_at  raised_amount_usd  \n",
       "0                  B  05-01-2015         10000000.0  \n",
       "1                  A  14-10-2014                NaN  \n",
       "2                NaN  01-03-2014           700000.0  \n",
       "3                  B  30-01-2014          3406878.0  \n",
       "4                  A  19-03-2008          2000000.0  "
      ]
     },
     "execution_count": 3,
     "metadata": {},
     "output_type": "execute_result"
    }
   ],
   "source": [
    "df.head()"
   ]
  },
  {
   "cell_type": "code",
   "execution_count": 4,
   "id": "ad9fb420-7f38-4fc8-b992-398c760aef1e",
   "metadata": {},
   "outputs": [],
   "source": [
    "%config Completer.use_jedi = True\n"
   ]
  },
  {
   "cell_type": "code",
   "execution_count": 5,
   "id": "85693f38-247c-46a4-9146-384e8cb3b865",
   "metadata": {},
   "outputs": [
    {
     "name": "stdout",
     "output_type": "stream",
     "text": [
      "<class 'pandas.core.frame.DataFrame'>\n",
      "RangeIndex: 114949 entries, 0 to 114948\n",
      "Data columns (total 6 columns):\n",
      " #   Column                   Non-Null Count   Dtype  \n",
      "---  ------                   --------------   -----  \n",
      " 0   company_permalink        114949 non-null  object \n",
      " 1   funding_round_permalink  114949 non-null  object \n",
      " 2   funding_round_type       114949 non-null  object \n",
      " 3   funding_round_code       31140 non-null   object \n",
      " 4   funded_at                114949 non-null  object \n",
      " 5   raised_amount_usd        94959 non-null   float64\n",
      "dtypes: float64(1), object(5)\n",
      "memory usage: 5.3+ MB\n"
     ]
    }
   ],
   "source": [
    "df.info()"
   ]
  },
  {
   "cell_type": "code",
   "execution_count": 6,
   "id": "deb60609-3617-4f64-a41b-93bd36c7e8d4",
   "metadata": {},
   "outputs": [],
   "source": [
    "# How many unique companies are present in rounds2?\n",
    "df=df['company_permalink']\n",
    "df=df.dropna()"
   ]
  },
  {
   "cell_type": "code",
   "execution_count": 7,
   "id": "da0b923b-a35b-42c9-93e9-a0d4f6c9c28a",
   "metadata": {},
   "outputs": [
    {
     "name": "stdout",
     "output_type": "stream",
     "text": [
      "90247\n"
     ]
    }
   ],
   "source": [
    "unique_company_in_round_2=df.nunique()\n",
    "print(unique_company_in_round_2)"
   ]
  },
  {
   "cell_type": "code",
   "execution_count": 8,
   "id": "2b9a70ee-fc78-4a10-8ab7-6c8e62f0c280",
   "metadata": {},
   "outputs": [],
   "source": [
    "# How many unique companies are present in the companies file?\n"
   ]
  },
  {
   "cell_type": "code",
   "execution_count": 9,
   "id": "5348238b-dee3-4f5e-827a-581403db3e11",
   "metadata": {},
   "outputs": [],
   "source": [
    "df=pd.read_csv(\"companies.csv\",encoding='latin-1')"
   ]
  },
  {
   "cell_type": "code",
   "execution_count": 10,
   "id": "5cdc956d-cc29-4e08-8372-5097a4d8add4",
   "metadata": {},
   "outputs": [],
   "source": [
    "df=df['name']\n",
    "df=df.dropna()"
   ]
  },
  {
   "cell_type": "code",
   "execution_count": 11,
   "id": "fcbb0b58-7a74-46f5-9242-3abb28269203",
   "metadata": {},
   "outputs": [
    {
     "name": "stdout",
     "output_type": "stream",
     "text": [
      "66099\n"
     ]
    }
   ],
   "source": [
    "unique_company_in_companies=df.nunique()\n",
    "print(unique_company_in_companies)"
   ]
  },
  {
   "cell_type": "code",
   "execution_count": 12,
   "id": "5b531877-4736-40c9-a445-4983e78cb99c",
   "metadata": {},
   "outputs": [],
   "source": [
    "# In the companies data frame, which column can be used as the unique key for each company? Write the name of the column."
   ]
  },
  {
   "cell_type": "code",
   "execution_count": 13,
   "id": "2aa549fe-2a97-4b24-b10c-a64e659fc9b0",
   "metadata": {},
   "outputs": [],
   "source": [
    "df=pd.read_csv(\"companies.csv\",encoding='latin-1')"
   ]
  },
  {
   "cell_type": "code",
   "execution_count": 14,
   "id": "0d102d6e-8a19-4cee-8cfb-65a0506bd8b7",
   "metadata": {},
   "outputs": [
    {
     "data": {
      "text/html": [
       "<div>\n",
       "<style scoped>\n",
       "    .dataframe tbody tr th:only-of-type {\n",
       "        vertical-align: middle;\n",
       "    }\n",
       "\n",
       "    .dataframe tbody tr th {\n",
       "        vertical-align: top;\n",
       "    }\n",
       "\n",
       "    .dataframe thead th {\n",
       "        text-align: right;\n",
       "    }\n",
       "</style>\n",
       "<table border=\"1\" class=\"dataframe\">\n",
       "  <thead>\n",
       "    <tr style=\"text-align: right;\">\n",
       "      <th></th>\n",
       "      <th>permalink</th>\n",
       "      <th>name</th>\n",
       "      <th>homepage_url</th>\n",
       "      <th>category_list</th>\n",
       "      <th>status</th>\n",
       "      <th>country_code</th>\n",
       "      <th>state_code</th>\n",
       "      <th>region</th>\n",
       "      <th>city</th>\n",
       "      <th>founded_at</th>\n",
       "    </tr>\n",
       "  </thead>\n",
       "  <tbody>\n",
       "    <tr>\n",
       "      <th>0</th>\n",
       "      <td>/Organization/-Fame</td>\n",
       "      <td>#fame</td>\n",
       "      <td>http://livfame.com</td>\n",
       "      <td>Media</td>\n",
       "      <td>operating</td>\n",
       "      <td>IND</td>\n",
       "      <td>16</td>\n",
       "      <td>Mumbai</td>\n",
       "      <td>Mumbai</td>\n",
       "      <td>NaN</td>\n",
       "    </tr>\n",
       "    <tr>\n",
       "      <th>1</th>\n",
       "      <td>/Organization/-Qounter</td>\n",
       "      <td>:Qounter</td>\n",
       "      <td>http://www.qounter.com</td>\n",
       "      <td>Application Platforms|Real Time|Social Network...</td>\n",
       "      <td>operating</td>\n",
       "      <td>USA</td>\n",
       "      <td>DE</td>\n",
       "      <td>DE - Other</td>\n",
       "      <td>Delaware City</td>\n",
       "      <td>04-09-2014</td>\n",
       "    </tr>\n",
       "    <tr>\n",
       "      <th>2</th>\n",
       "      <td>/Organization/-The-One-Of-Them-Inc-</td>\n",
       "      <td>(THE) ONE of THEM,Inc.</td>\n",
       "      <td>http://oneofthem.jp</td>\n",
       "      <td>Apps|Games|Mobile</td>\n",
       "      <td>operating</td>\n",
       "      <td>NaN</td>\n",
       "      <td>NaN</td>\n",
       "      <td>NaN</td>\n",
       "      <td>NaN</td>\n",
       "      <td>NaN</td>\n",
       "    </tr>\n",
       "    <tr>\n",
       "      <th>3</th>\n",
       "      <td>/Organization/0-6-Com</td>\n",
       "      <td>0-6.com</td>\n",
       "      <td>http://www.0-6.com</td>\n",
       "      <td>Curated Web</td>\n",
       "      <td>operating</td>\n",
       "      <td>CHN</td>\n",
       "      <td>22</td>\n",
       "      <td>Beijing</td>\n",
       "      <td>Beijing</td>\n",
       "      <td>01-01-2007</td>\n",
       "    </tr>\n",
       "    <tr>\n",
       "      <th>4</th>\n",
       "      <td>/Organization/004-Technologies</td>\n",
       "      <td>004 Technologies</td>\n",
       "      <td>http://004gmbh.de/en/004-interact</td>\n",
       "      <td>Software</td>\n",
       "      <td>operating</td>\n",
       "      <td>USA</td>\n",
       "      <td>IL</td>\n",
       "      <td>Springfield, Illinois</td>\n",
       "      <td>Champaign</td>\n",
       "      <td>01-01-2010</td>\n",
       "    </tr>\n",
       "  </tbody>\n",
       "</table>\n",
       "</div>"
      ],
      "text/plain": [
       "                             permalink                    name  \\\n",
       "0                  /Organization/-Fame                   #fame   \n",
       "1               /Organization/-Qounter                :Qounter   \n",
       "2  /Organization/-The-One-Of-Them-Inc-  (THE) ONE of THEM,Inc.   \n",
       "3                /Organization/0-6-Com                 0-6.com   \n",
       "4       /Organization/004-Technologies        004 Technologies   \n",
       "\n",
       "                        homepage_url  \\\n",
       "0                 http://livfame.com   \n",
       "1             http://www.qounter.com   \n",
       "2                http://oneofthem.jp   \n",
       "3                 http://www.0-6.com   \n",
       "4  http://004gmbh.de/en/004-interact   \n",
       "\n",
       "                                       category_list     status country_code  \\\n",
       "0                                              Media  operating          IND   \n",
       "1  Application Platforms|Real Time|Social Network...  operating          USA   \n",
       "2                                  Apps|Games|Mobile  operating          NaN   \n",
       "3                                        Curated Web  operating          CHN   \n",
       "4                                           Software  operating          USA   \n",
       "\n",
       "  state_code                 region           city  founded_at  \n",
       "0         16                 Mumbai         Mumbai         NaN  \n",
       "1         DE             DE - Other  Delaware City  04-09-2014  \n",
       "2        NaN                    NaN            NaN         NaN  \n",
       "3         22                Beijing        Beijing  01-01-2007  \n",
       "4         IL  Springfield, Illinois      Champaign  01-01-2010  "
      ]
     },
     "execution_count": 14,
     "metadata": {},
     "output_type": "execute_result"
    }
   ],
   "source": [
    "df.head()"
   ]
  },
  {
   "cell_type": "code",
   "execution_count": 15,
   "id": "9c1a8f52-9b25-4983-98ba-4fea665c30b5",
   "metadata": {},
   "outputs": [
    {
     "data": {
      "text/html": [
       "<div>\n",
       "<style scoped>\n",
       "    .dataframe tbody tr th:only-of-type {\n",
       "        vertical-align: middle;\n",
       "    }\n",
       "\n",
       "    .dataframe tbody tr th {\n",
       "        vertical-align: top;\n",
       "    }\n",
       "\n",
       "    .dataframe thead th {\n",
       "        text-align: right;\n",
       "    }\n",
       "</style>\n",
       "<table border=\"1\" class=\"dataframe\">\n",
       "  <thead>\n",
       "    <tr style=\"text-align: right;\">\n",
       "      <th></th>\n",
       "      <th>permalink</th>\n",
       "      <th>name</th>\n",
       "      <th>homepage_url</th>\n",
       "      <th>category_list</th>\n",
       "      <th>status</th>\n",
       "      <th>country_code</th>\n",
       "      <th>state_code</th>\n",
       "      <th>region</th>\n",
       "      <th>city</th>\n",
       "      <th>founded_at</th>\n",
       "    </tr>\n",
       "  </thead>\n",
       "  <tbody>\n",
       "    <tr>\n",
       "      <th>66363</th>\n",
       "      <td>/Organization/Zznode-Science-And-Technology-Co...</td>\n",
       "      <td>ZZNode Science and Technology</td>\n",
       "      <td>http://www.zznode.com</td>\n",
       "      <td>Enterprise Software</td>\n",
       "      <td>operating</td>\n",
       "      <td>CHN</td>\n",
       "      <td>22</td>\n",
       "      <td>Beijing</td>\n",
       "      <td>Beijing</td>\n",
       "      <td>NaN</td>\n",
       "    </tr>\n",
       "    <tr>\n",
       "      <th>66364</th>\n",
       "      <td>/Organization/Zzzzapp-Com</td>\n",
       "      <td>Zzzzapp Wireless ltd.</td>\n",
       "      <td>http://www.zzzzapp.com</td>\n",
       "      <td>Advertising|Mobile|Web Development|Wireless</td>\n",
       "      <td>operating</td>\n",
       "      <td>HRV</td>\n",
       "      <td>15</td>\n",
       "      <td>Split</td>\n",
       "      <td>Split</td>\n",
       "      <td>13-05-2012</td>\n",
       "    </tr>\n",
       "    <tr>\n",
       "      <th>66365</th>\n",
       "      <td>/Organization/ÃEron</td>\n",
       "      <td>ÃERON</td>\n",
       "      <td>http://www.aeron.hu/</td>\n",
       "      <td>NaN</td>\n",
       "      <td>operating</td>\n",
       "      <td>NaN</td>\n",
       "      <td>NaN</td>\n",
       "      <td>NaN</td>\n",
       "      <td>NaN</td>\n",
       "      <td>01-01-2011</td>\n",
       "    </tr>\n",
       "    <tr>\n",
       "      <th>66366</th>\n",
       "      <td>/Organization/ÃAsys-2</td>\n",
       "      <td>Ãasys</td>\n",
       "      <td>http://www.oasys.io/</td>\n",
       "      <td>Consumer Electronics|Internet of Things|Teleco...</td>\n",
       "      <td>operating</td>\n",
       "      <td>USA</td>\n",
       "      <td>CA</td>\n",
       "      <td>SF Bay Area</td>\n",
       "      <td>San Francisco</td>\n",
       "      <td>01-01-2014</td>\n",
       "    </tr>\n",
       "    <tr>\n",
       "      <th>66367</th>\n",
       "      <td>/Organization/Ä°Novatiff-Reklam-Ve-Tanä±Tä±M-H...</td>\n",
       "      <td>Ä°novatiff Reklam ve TanÄ±tÄ±m Hizmetleri Tic</td>\n",
       "      <td>http://inovatiff.com</td>\n",
       "      <td>Consumer Goods|E-Commerce|Internet</td>\n",
       "      <td>operating</td>\n",
       "      <td>NaN</td>\n",
       "      <td>NaN</td>\n",
       "      <td>NaN</td>\n",
       "      <td>NaN</td>\n",
       "      <td>NaN</td>\n",
       "    </tr>\n",
       "  </tbody>\n",
       "</table>\n",
       "</div>"
      ],
      "text/plain": [
       "                                               permalink  \\\n",
       "66363  /Organization/Zznode-Science-And-Technology-Co...   \n",
       "66364                          /Organization/Zzzzapp-Com   \n",
       "66365                               /Organization/ÃEron   \n",
       "66366                             /Organization/ÃAsys-2   \n",
       "66367  /Organization/Ä°Novatiff-Reklam-Ve-Tanä±Tä±M-H...   \n",
       "\n",
       "                                                name            homepage_url  \\\n",
       "66363                  ZZNode Science and Technology   http://www.zznode.com   \n",
       "66364                          Zzzzapp Wireless ltd.  http://www.zzzzapp.com   \n",
       "66365                                         ÃERON    http://www.aeron.hu/   \n",
       "66366                                         Ãasys    http://www.oasys.io/   \n",
       "66367  Ä°novatiff Reklam ve TanÄ±tÄ±m Hizmetleri Tic    http://inovatiff.com   \n",
       "\n",
       "                                           category_list     status  \\\n",
       "66363                                Enterprise Software  operating   \n",
       "66364        Advertising|Mobile|Web Development|Wireless  operating   \n",
       "66365                                                NaN  operating   \n",
       "66366  Consumer Electronics|Internet of Things|Teleco...  operating   \n",
       "66367                 Consumer Goods|E-Commerce|Internet  operating   \n",
       "\n",
       "      country_code state_code       region           city  founded_at  \n",
       "66363          CHN         22      Beijing        Beijing         NaN  \n",
       "66364          HRV         15        Split          Split  13-05-2012  \n",
       "66365          NaN        NaN          NaN            NaN  01-01-2011  \n",
       "66366          USA         CA  SF Bay Area  San Francisco  01-01-2014  \n",
       "66367          NaN        NaN          NaN            NaN         NaN  "
      ]
     },
     "execution_count": 15,
     "metadata": {},
     "output_type": "execute_result"
    }
   ],
   "source": [
    "df.tail()"
   ]
  },
  {
   "cell_type": "code",
   "execution_count": 16,
   "id": "ba5e09ee-9ccb-4016-8136-b5019aa97b68",
   "metadata": {},
   "outputs": [
    {
     "name": "stdout",
     "output_type": "stream",
     "text": [
      "<class 'pandas.core.frame.DataFrame'>\n",
      "RangeIndex: 66368 entries, 0 to 66367\n",
      "Data columns (total 10 columns):\n",
      " #   Column         Non-Null Count  Dtype \n",
      "---  ------         --------------  ----- \n",
      " 0   permalink      66368 non-null  object\n",
      " 1   name           66367 non-null  object\n",
      " 2   homepage_url   61310 non-null  object\n",
      " 3   category_list  63220 non-null  object\n",
      " 4   status         66368 non-null  object\n",
      " 5   country_code   59410 non-null  object\n",
      " 6   state_code     57821 non-null  object\n",
      " 7   region         58338 non-null  object\n",
      " 8   city           58340 non-null  object\n",
      " 9   founded_at     51147 non-null  object\n",
      "dtypes: object(10)\n",
      "memory usage: 5.1+ MB\n"
     ]
    }
   ],
   "source": [
    "df.info()"
   ]
  },
  {
   "cell_type": "code",
   "execution_count": 17,
   "id": "9a049487-bfa6-4300-8083-5b126d116887",
   "metadata": {},
   "outputs": [],
   "source": [
    "df=df['permalink']\n",
    "df=df.dropna()"
   ]
  },
  {
   "cell_type": "code",
   "execution_count": 18,
   "id": "2545a57c-2650-46ff-8c22-b0f11007c64a",
   "metadata": {},
   "outputs": [
    {
     "name": "stdout",
     "output_type": "stream",
     "text": [
      "66368\n"
     ]
    }
   ],
   "source": [
    "unique_column=df.nunique()\n",
    "print(unique_column)"
   ]
  },
  {
   "cell_type": "code",
   "execution_count": 19,
   "id": "c2ed2df9-f52d-44cf-8f40-27ed59ec293d",
   "metadata": {},
   "outputs": [],
   "source": [
    "# Are there any companies in the rounds2 file which are not present in companies ? Answer Y/N."
   ]
  },
  {
   "cell_type": "code",
   "execution_count": 20,
   "id": "a5f78a30-ce28-469f-9092-22b311510348",
   "metadata": {},
   "outputs": [],
   "source": [
    "\n",
    "df1=pd.read_csv(\"rounds2.csv\",encoding=\"latin-1\")"
   ]
  },
  {
   "cell_type": "code",
   "execution_count": 21,
   "id": "1bc41b86-8b39-4794-acff-9c260cdd70fd",
   "metadata": {},
   "outputs": [],
   "source": [
    "df1=df1['company_permalink']"
   ]
  },
  {
   "cell_type": "code",
   "execution_count": 22,
   "id": "9b103d13-7d76-4181-95a9-e9de02b08dfc",
   "metadata": {},
   "outputs": [
    {
     "name": "stdout",
     "output_type": "stream",
     "text": [
      "90247\n"
     ]
    }
   ],
   "source": [
    "unique_company_in_rounds_2=df1.nunique()\n",
    "print(unique_company_in_rounds_2)"
   ]
  },
  {
   "cell_type": "code",
   "execution_count": null,
   "id": "3312d65e-394b-4d66-936b-007f1f74f690",
   "metadata": {},
   "outputs": [],
   "source": [
    "df2=pd.read_csv(\"companies.csv\",encoding=\"latin-1\")"
   ]
  },
  {
   "cell_type": "code",
   "execution_count": null,
   "id": "c3fb5320-0233-4786-acc4-be9f9fbd0b45",
   "metadata": {},
   "outputs": [],
   "source": [
    "df2=df2['name']"
   ]
  },
  {
   "cell_type": "code",
   "execution_count": null,
   "id": "6aa2d35b-3b77-4208-8f44-de66803e6abf",
   "metadata": {},
   "outputs": [],
   "source": [
    "unique_company_in_companies=df2.nunique()\n",
    "print(unique_company_in_companies)"
   ]
  },
  {
   "cell_type": "code",
   "execution_count": null,
   "id": "84b96be5-2e46-45bf-8e7c-e3e1eba7c585",
   "metadata": {},
   "outputs": [],
   "source": [
    "if unique_company_in_companies==unique_company_in_rounds_2:\n",
    "    print(\"Yes\")\n",
    "else:\n",
    "    print(\"No\")"
   ]
  },
  {
   "cell_type": "code",
   "execution_count": null,
   "id": "71d3f9cb-db0d-478a-b4ef-9b76f6608052",
   "metadata": {},
   "outputs": [],
   "source": [
    "# Merge the two data frames so that all variables (columns) in the companies frame are added to the rounds2 data frame.\n",
    "# Name the merged frame master_frame. How many observations are present in master_frame ?\n"
   ]
  },
  {
   "cell_type": "code",
   "execution_count": null,
   "id": "76d788d2-f596-4294-94d9-d95d2b3caee9",
   "metadata": {},
   "outputs": [],
   "source": [
    "df1=pd.read_csv(\"rounds2.csv\",encoding=\"latin-1\")"
   ]
  },
  {
   "cell_type": "code",
   "execution_count": null,
   "id": "ef07e1d8-9331-4059-a8c7-ff97659db90c",
   "metadata": {},
   "outputs": [],
   "source": [
    "df2=pd.read_csv(\"companies.csv\",encoding=\"latin-1\")"
   ]
  },
  {
   "cell_type": "code",
   "execution_count": null,
   "id": "791c2d65-ad48-4fa4-9698-c3e675f43686",
   "metadata": {},
   "outputs": [],
   "source": [
    "df2.head()"
   ]
  },
  {
   "cell_type": "code",
   "execution_count": null,
   "id": "11cb1744-56c5-43e6-a607-e29742386115",
   "metadata": {},
   "outputs": [],
   "source": [
    "df1=df1.rename(columns={'company_permalink':'permalink'})"
   ]
  },
  {
   "cell_type": "code",
   "execution_count": null,
   "id": "5b09d4fa-bb1b-4897-8fc5-5448be870b25",
   "metadata": {},
   "outputs": [],
   "source": [
    "df1['permalink'] = df1['permalink'].str.lower()"
   ]
  },
  {
   "cell_type": "code",
   "execution_count": null,
   "id": "bfee0155-8e03-4a98-877a-ffe754235cec",
   "metadata": {},
   "outputs": [],
   "source": [
    "df2['permalink'] = df2['permalink'].str.lower()"
   ]
  },
  {
   "cell_type": "code",
   "execution_count": null,
   "id": "4d1142d5-3991-487c-be60-74038b037418",
   "metadata": {},
   "outputs": [],
   "source": [
    "df1.head()"
   ]
  },
  {
   "cell_type": "code",
   "execution_count": null,
   "id": "3d92ce14-98fc-41f9-bd3a-e544e2bc84c8",
   "metadata": {},
   "outputs": [],
   "source": [
    "df2.head()"
   ]
  },
  {
   "cell_type": "code",
   "execution_count": null,
   "id": "0c58c601-a572-49b6-83d5-ab661fcc189b",
   "metadata": {},
   "outputs": [],
   "source": [
    "master_frame=pd.merge(df1,df2,on=\"permalink\",how=\"inner\")"
   ]
  },
  {
   "cell_type": "code",
   "execution_count": null,
   "id": "e6d71305-bd15-4023-8c0d-4bcccf43ece9",
   "metadata": {},
   "outputs": [],
   "source": [
    "master_frame.head()"
   ]
  },
  {
   "cell_type": "code",
   "execution_count": null,
   "id": "0ad01595-c1d5-4f54-b5dd-bf62c0aadb58",
   "metadata": {},
   "outputs": [],
   "source": [
    "master_frame.shape[0]"
   ]
  },
  {
   "cell_type": "code",
   "execution_count": null,
   "id": "391f8b35-784d-4648-b308-0de651a345b8",
   "metadata": {},
   "outputs": [],
   "source": []
  }
 ],
 "metadata": {
  "kernelspec": {
   "display_name": "Python 3 (ipykernel)",
   "language": "python",
   "name": "python3"
  },
  "language_info": {
   "codemirror_mode": {
    "name": "ipython",
    "version": 3
   },
   "file_extension": ".py",
   "mimetype": "text/x-python",
   "name": "python",
   "nbconvert_exporter": "python",
   "pygments_lexer": "ipython3",
   "version": "3.12.4"
  }
 },
 "nbformat": 4,
 "nbformat_minor": 5
}
