{
 "cells": [
  {
   "cell_type": "code",
   "execution_count": 151,
   "id": "34dbe736-b9f0-4909-a370-3181fffd4026",
   "metadata": {},
   "outputs": [],
   "source": [
    "# A plot showing the representative amount of investment in each funding type. \n",
    "# This chart should make it clear that a certain funding type (FT) is best suited for Spark Funds.\n"
   ]
  },
  {
   "cell_type": "code",
   "execution_count": 152,
   "id": "b2fbd705-0147-44bd-9da2-be90fdfbe610",
   "metadata": {},
   "outputs": [],
   "source": [
    "import pandas as pd"
   ]
  },
  {
   "cell_type": "code",
   "execution_count": 153,
   "id": "efe0f9d9-0c46-4872-9d77-f4ae182138f8",
   "metadata": {},
   "outputs": [],
   "source": [
    "df=pd.read_csv(\"rounds2.csv\",encoding=\"latin\")"
   ]
  },
  {
   "cell_type": "code",
   "execution_count": 154,
   "id": "595d62e5-7f38-4918-82de-0f5eef53ccba",
   "metadata": {},
   "outputs": [],
   "source": [
    "grouped_df=df.groupby(\"funding_round_type\").median(numeric_only=True).reset_index()"
   ]
  },
  {
   "cell_type": "code",
   "execution_count": 155,
   "id": "238d4fc2-2625-454b-b001-5bce393b14f8",
   "metadata": {},
   "outputs": [
    {
     "data": {
      "text/html": [
       "<div>\n",
       "<style scoped>\n",
       "    .dataframe tbody tr th:only-of-type {\n",
       "        vertical-align: middle;\n",
       "    }\n",
       "\n",
       "    .dataframe tbody tr th {\n",
       "        vertical-align: top;\n",
       "    }\n",
       "\n",
       "    .dataframe thead th {\n",
       "        text-align: right;\n",
       "    }\n",
       "</style>\n",
       "<table border=\"1\" class=\"dataframe\">\n",
       "  <thead>\n",
       "    <tr style=\"text-align: right;\">\n",
       "      <th></th>\n",
       "      <th>funding_round_type</th>\n",
       "      <th>raised_amount_usd</th>\n",
       "    </tr>\n",
       "  </thead>\n",
       "  <tbody>\n",
       "    <tr>\n",
       "      <th>0</th>\n",
       "      <td>angel</td>\n",
       "      <td>400000.0</td>\n",
       "    </tr>\n",
       "    <tr>\n",
       "      <th>1</th>\n",
       "      <td>convertible_note</td>\n",
       "      <td>272000.0</td>\n",
       "    </tr>\n",
       "    <tr>\n",
       "      <th>2</th>\n",
       "      <td>debt_financing</td>\n",
       "      <td>1100000.0</td>\n",
       "    </tr>\n",
       "    <tr>\n",
       "      <th>3</th>\n",
       "      <td>equity_crowdfunding</td>\n",
       "      <td>100000.0</td>\n",
       "    </tr>\n",
       "    <tr>\n",
       "      <th>4</th>\n",
       "      <td>grant</td>\n",
       "      <td>201684.0</td>\n",
       "    </tr>\n",
       "    <tr>\n",
       "      <th>5</th>\n",
       "      <td>non_equity_assistance</td>\n",
       "      <td>60000.0</td>\n",
       "    </tr>\n",
       "    <tr>\n",
       "      <th>6</th>\n",
       "      <td>post_ipo_debt</td>\n",
       "      <td>19950000.0</td>\n",
       "    </tr>\n",
       "    <tr>\n",
       "      <th>7</th>\n",
       "      <td>post_ipo_equity</td>\n",
       "      <td>12262852.5</td>\n",
       "    </tr>\n",
       "    <tr>\n",
       "      <th>8</th>\n",
       "      <td>private_equity</td>\n",
       "      <td>20000000.0</td>\n",
       "    </tr>\n",
       "    <tr>\n",
       "      <th>9</th>\n",
       "      <td>product_crowdfunding</td>\n",
       "      <td>183915.0</td>\n",
       "    </tr>\n",
       "    <tr>\n",
       "      <th>10</th>\n",
       "      <td>secondary_market</td>\n",
       "      <td>32600000.0</td>\n",
       "    </tr>\n",
       "    <tr>\n",
       "      <th>11</th>\n",
       "      <td>seed</td>\n",
       "      <td>275000.0</td>\n",
       "    </tr>\n",
       "    <tr>\n",
       "      <th>12</th>\n",
       "      <td>undisclosed</td>\n",
       "      <td>1018680.0</td>\n",
       "    </tr>\n",
       "    <tr>\n",
       "      <th>13</th>\n",
       "      <td>venture</td>\n",
       "      <td>5000000.0</td>\n",
       "    </tr>\n",
       "  </tbody>\n",
       "</table>\n",
       "</div>"
      ],
      "text/plain": [
       "       funding_round_type  raised_amount_usd\n",
       "0                   angel           400000.0\n",
       "1        convertible_note           272000.0\n",
       "2          debt_financing          1100000.0\n",
       "3     equity_crowdfunding           100000.0\n",
       "4                   grant           201684.0\n",
       "5   non_equity_assistance            60000.0\n",
       "6           post_ipo_debt         19950000.0\n",
       "7         post_ipo_equity         12262852.5\n",
       "8          private_equity         20000000.0\n",
       "9    product_crowdfunding           183915.0\n",
       "10       secondary_market         32600000.0\n",
       "11                   seed           275000.0\n",
       "12            undisclosed          1018680.0\n",
       "13                venture          5000000.0"
      ]
     },
     "execution_count": 155,
     "metadata": {},
     "output_type": "execute_result"
    }
   ],
   "source": [
    "grouped_df.head(20)"
   ]
  },
  {
   "cell_type": "code",
   "execution_count": 156,
   "id": "ccb912ed-1356-4b79-8e16-105635c9ad9c",
   "metadata": {},
   "outputs": [],
   "source": [
    "funding_round=grouped_df[[\"funding_round_type\"]]"
   ]
  },
  {
   "cell_type": "code",
   "execution_count": 157,
   "id": "8078c981-a286-4e1c-b815-aa7f4376fb43",
   "metadata": {},
   "outputs": [
    {
     "data": {
      "text/html": [
       "<div>\n",
       "<style scoped>\n",
       "    .dataframe tbody tr th:only-of-type {\n",
       "        vertical-align: middle;\n",
       "    }\n",
       "\n",
       "    .dataframe tbody tr th {\n",
       "        vertical-align: top;\n",
       "    }\n",
       "\n",
       "    .dataframe thead th {\n",
       "        text-align: right;\n",
       "    }\n",
       "</style>\n",
       "<table border=\"1\" class=\"dataframe\">\n",
       "  <thead>\n",
       "    <tr style=\"text-align: right;\">\n",
       "      <th></th>\n",
       "      <th>funding_round_type</th>\n",
       "    </tr>\n",
       "  </thead>\n",
       "  <tbody>\n",
       "    <tr>\n",
       "      <th>0</th>\n",
       "      <td>angel</td>\n",
       "    </tr>\n",
       "    <tr>\n",
       "      <th>1</th>\n",
       "      <td>convertible_note</td>\n",
       "    </tr>\n",
       "    <tr>\n",
       "      <th>2</th>\n",
       "      <td>debt_financing</td>\n",
       "    </tr>\n",
       "    <tr>\n",
       "      <th>3</th>\n",
       "      <td>equity_crowdfunding</td>\n",
       "    </tr>\n",
       "    <tr>\n",
       "      <th>4</th>\n",
       "      <td>grant</td>\n",
       "    </tr>\n",
       "  </tbody>\n",
       "</table>\n",
       "</div>"
      ],
      "text/plain": [
       "    funding_round_type\n",
       "0                angel\n",
       "1     convertible_note\n",
       "2       debt_financing\n",
       "3  equity_crowdfunding\n",
       "4                grant"
      ]
     },
     "execution_count": 157,
     "metadata": {},
     "output_type": "execute_result"
    }
   ],
   "source": [
    "funding_round.head()"
   ]
  },
  {
   "cell_type": "code",
   "execution_count": 158,
   "id": "be9a63ea-0003-4780-9ee0-5a1aab1292dd",
   "metadata": {},
   "outputs": [],
   "source": [
    "raised_amount=grouped_df[[\"raised_amount_usd\"]]"
   ]
  },
  {
   "cell_type": "code",
   "execution_count": 159,
   "id": "8fb5f4c5-5ec5-4023-8794-c3c186047848",
   "metadata": {},
   "outputs": [
    {
     "data": {
      "text/html": [
       "<div>\n",
       "<style scoped>\n",
       "    .dataframe tbody tr th:only-of-type {\n",
       "        vertical-align: middle;\n",
       "    }\n",
       "\n",
       "    .dataframe tbody tr th {\n",
       "        vertical-align: top;\n",
       "    }\n",
       "\n",
       "    .dataframe thead th {\n",
       "        text-align: right;\n",
       "    }\n",
       "</style>\n",
       "<table border=\"1\" class=\"dataframe\">\n",
       "  <thead>\n",
       "    <tr style=\"text-align: right;\">\n",
       "      <th></th>\n",
       "      <th>raised_amount_usd</th>\n",
       "    </tr>\n",
       "  </thead>\n",
       "  <tbody>\n",
       "    <tr>\n",
       "      <th>0</th>\n",
       "      <td>400000.0</td>\n",
       "    </tr>\n",
       "    <tr>\n",
       "      <th>1</th>\n",
       "      <td>272000.0</td>\n",
       "    </tr>\n",
       "    <tr>\n",
       "      <th>2</th>\n",
       "      <td>1100000.0</td>\n",
       "    </tr>\n",
       "    <tr>\n",
       "      <th>3</th>\n",
       "      <td>100000.0</td>\n",
       "    </tr>\n",
       "    <tr>\n",
       "      <th>4</th>\n",
       "      <td>201684.0</td>\n",
       "    </tr>\n",
       "  </tbody>\n",
       "</table>\n",
       "</div>"
      ],
      "text/plain": [
       "   raised_amount_usd\n",
       "0           400000.0\n",
       "1           272000.0\n",
       "2          1100000.0\n",
       "3           100000.0\n",
       "4           201684.0"
      ]
     },
     "execution_count": 159,
     "metadata": {},
     "output_type": "execute_result"
    }
   ],
   "source": [
    "raised_amount.head()"
   ]
  },
  {
   "cell_type": "code",
   "execution_count": 160,
   "id": "55c5ae2f-26c9-448a-a231-c93e34e4c3b9",
   "metadata": {},
   "outputs": [],
   "source": [
    "import matplotlib as plt"
   ]
  },
  {
   "cell_type": "code",
   "execution_count": 161,
   "id": "0b6e5a5f-3f14-42ad-86f2-f31d39127951",
   "metadata": {},
   "outputs": [],
   "source": [
    "# Convert a single column to a list\n",
    "raised_amount = raised_amount.to_numpy()\n",
    "funding_round = funding_round.to_numpy()"
   ]
  },
  {
   "cell_type": "code",
   "execution_count": 162,
   "id": "6e256cca-2f3c-4012-b76b-7eba53a0fd6e",
   "metadata": {},
   "outputs": [
    {
     "name": "stdout",
     "output_type": "stream",
     "text": [
      "[400000.0, 272000.0, 1100000.0, 100000.0, 201684.0, 60000.0, 19950000.0, 12262852.5, 20000000.0, 183915.0, 32600000.0, 275000.0, 1018680.0, 5000000.0]\n",
      "['angel', 'convertible_note', 'debt_financing', 'equity_crowdfunding', 'grant', 'non_equity_assistance', 'post_ipo_debt', 'post_ipo_equity', 'private_equity', 'product_crowdfunding', 'secondary_market', 'seed', 'undisclosed', 'venture']\n"
     ]
    }
   ],
   "source": [
    "temp=[]\n",
    "for i in raised_amount:\n",
    "    temp.append(i[0])\n",
    "raised_amount=temp\n",
    "temp=[]\n",
    "for i in funding_round:\n",
    "    temp.append(i[0])\n",
    "funding_round=temp\n",
    "print(raised_amount)\n",
    "print(funding_round)\n"
   ]
  },
  {
   "cell_type": "code",
   "execution_count": 163,
   "id": "757a067b-135e-467c-b54f-21640d205c6b",
   "metadata": {},
   "outputs": [
    {
     "data": {
      "image/png": "[encoded data removed]",
      "text/plain": [
       "<Figure size 640x480 with 1 Axes>"
      ]
     },
     "metadata": {},
     "output_type": "display_data"
    }
   ],
   "source": [
    "import matplotlib.pyplot as plt\n",
    "\n",
    "# Define conditions\n",
    "colors=[]\n",
    "for i in range(len(raised_amount)):\n",
    "    for j in range(len(raised_amount)):\n",
    "        if i==j:\n",
    "            if (raised_amount[i] >= 5000000 and raised_amount[i]<=15000000) and (funding_round[j] in ['venture','seed','angel','private_equity']):\n",
    "                colors.append(\"green\")\n",
    "            else:\n",
    "                colors.append(\"red\")\n",
    "    \n",
    "# Create a bar chart\n",
    "plt.bar(funding_round, raised_amount,color=colors)\n",
    "\n",
    "# Add labels and title\n",
    "plt.xlabel(\"Funding Round Type\")\n",
    "plt.ylabel(\"Raised Amount in USD\")\n",
    "plt.title(\"Funding Round Type vs Raised Amount\")\n",
    "\n",
    "plt.xticks(rotation=90)  # Rotate x-axis labels for better readability\n",
    "\n",
    "# Show plot\n",
    "# plt.tight_layout()  # Adjust layout to fit labels\n",
    "plt.show()\n"
   ]
  },
  {
   "cell_type": "code",
   "execution_count": 164,
   "id": "0df5f348-386b-40fc-a8cd-f6b8391f4ede",
   "metadata": {},
   "outputs": [],
   "source": [
    "# A plot showing the top 9 countries against the total amount of investments of funding type FT.\n",
    "# This should make the top 3 countries (Country 1, Country 2, and Country 3) very clear.\n"
   ]
  },
  {
   "cell_type": "code",
   "execution_count": null,
   "id": "f12217ec-8ce2-4bef-85d7-98adfc1503a7",
   "metadata": {},
   "outputs": [],
   "source": []
  }
 ],
 "metadata": {
  "kernelspec": {
   "display_name": "Python 3 (ipykernel)",
   "language": "python",
   "name": "python3"
  },
  "language_info": {
   "codemirror_mode": {
    "name": "ipython",
    "version": 3
   },
   "file_extension": ".py",
   "mimetype": "text/x-python",
   "name": "python",
   "nbconvert_exporter": "python",
   "pygments_lexer": "ipython3",
   "version": "3.12.4"
  }
 },
 "nbformat": 4,
 "nbformat_minor": 5
}
