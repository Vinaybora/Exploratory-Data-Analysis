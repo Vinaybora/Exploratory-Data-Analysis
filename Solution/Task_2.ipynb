{
 "cells": [
  {
   "cell_type": "code",
   "execution_count": 1,
   "id": "e5145638-5604-4773-b95e-eb98c78319f6",
   "metadata": {},
   "outputs": [],
   "source": [
    "import pandas as pd"
   ]
  },
  {
   "cell_type": "code",
   "execution_count": 7,
   "id": "c2757635-84dd-49f1-804d-60f89de8b3ae",
   "metadata": {},
   "outputs": [],
   "source": [
    "df=pd.read_csv(\"rounds2.csv\",encoding=\"latin\")"
   ]
  },
  {
   "cell_type": "code",
   "execution_count": 86,
   "id": "e013adc7-1fb1-4e6b-bd6d-faddeb71d3bf",
   "metadata": {},
   "outputs": [
    {
     "data": {
      "text/html": [
       "<div>\n",
       "<style scoped>\n",
       "    .dataframe tbody tr th:only-of-type {\n",
       "        vertical-align: middle;\n",
       "    }\n",
       "\n",
       "    .dataframe tbody tr th {\n",
       "        vertical-align: top;\n",
       "    }\n",
       "\n",
       "    .dataframe thead th {\n",
       "        text-align: right;\n",
       "    }\n",
       "</style>\n",
       "<table border=\"1\" class=\"dataframe\">\n",
       "  <thead>\n",
       "    <tr style=\"text-align: right;\">\n",
       "      <th></th>\n",
       "      <th>company_permalink</th>\n",
       "      <th>funding_round_permalink</th>\n",
       "      <th>funding_round_type</th>\n",
       "      <th>funding_round_code</th>\n",
       "      <th>funded_at</th>\n",
       "      <th>raised_amount_usd</th>\n",
       "    </tr>\n",
       "  </thead>\n",
       "  <tbody>\n",
       "    <tr>\n",
       "      <th>0</th>\n",
       "      <td>/organization/-fame</td>\n",
       "      <td>/funding-round/9a01d05418af9f794eebff7ace91f638</td>\n",
       "      <td>venture</td>\n",
       "      <td>B</td>\n",
       "      <td>05-01-2015</td>\n",
       "      <td>10000000.0</td>\n",
       "    </tr>\n",
       "    <tr>\n",
       "      <th>1</th>\n",
       "      <td>/ORGANIZATION/-QOUNTER</td>\n",
       "      <td>/funding-round/22dacff496eb7acb2b901dec1dfe5633</td>\n",
       "      <td>venture</td>\n",
       "      <td>A</td>\n",
       "      <td>14-10-2014</td>\n",
       "      <td>NaN</td>\n",
       "    </tr>\n",
       "    <tr>\n",
       "      <th>2</th>\n",
       "      <td>/organization/-qounter</td>\n",
       "      <td>/funding-round/b44fbb94153f6cdef13083530bb48030</td>\n",
       "      <td>seed</td>\n",
       "      <td>NaN</td>\n",
       "      <td>01-03-2014</td>\n",
       "      <td>700000.0</td>\n",
       "    </tr>\n",
       "    <tr>\n",
       "      <th>3</th>\n",
       "      <td>/ORGANIZATION/-THE-ONE-OF-THEM-INC-</td>\n",
       "      <td>/funding-round/650b8f704416801069bb178a1418776b</td>\n",
       "      <td>venture</td>\n",
       "      <td>B</td>\n",
       "      <td>30-01-2014</td>\n",
       "      <td>3406878.0</td>\n",
       "    </tr>\n",
       "    <tr>\n",
       "      <th>4</th>\n",
       "      <td>/organization/0-6-com</td>\n",
       "      <td>/funding-round/5727accaeaa57461bd22a9bdd945382d</td>\n",
       "      <td>venture</td>\n",
       "      <td>A</td>\n",
       "      <td>19-03-2008</td>\n",
       "      <td>2000000.0</td>\n",
       "    </tr>\n",
       "    <tr>\n",
       "      <th>...</th>\n",
       "      <td>...</td>\n",
       "      <td>...</td>\n",
       "      <td>...</td>\n",
       "      <td>...</td>\n",
       "      <td>...</td>\n",
       "      <td>...</td>\n",
       "    </tr>\n",
       "    <tr>\n",
       "      <th>95</th>\n",
       "      <td>/ORGANIZATION/1234ENTER</td>\n",
       "      <td>/funding-round/6343322ed785252d4c5ada444fa7d8e4</td>\n",
       "      <td>venture</td>\n",
       "      <td>NaN</td>\n",
       "      <td>22-11-2013</td>\n",
       "      <td>150267.0</td>\n",
       "    </tr>\n",
       "    <tr>\n",
       "      <th>96</th>\n",
       "      <td>/organization/1234enter</td>\n",
       "      <td>/funding-round/ee6f9dea78c9a0697a500098a854564d</td>\n",
       "      <td>seed</td>\n",
       "      <td>NaN</td>\n",
       "      <td>01-09-2012</td>\n",
       "      <td>500000.0</td>\n",
       "    </tr>\n",
       "    <tr>\n",
       "      <th>97</th>\n",
       "      <td>/ORGANIZATION/123CONTACTFORM</td>\n",
       "      <td>/funding-round/af7382f8e3d806986796029388cb1b7f</td>\n",
       "      <td>venture</td>\n",
       "      <td>NaN</td>\n",
       "      <td>16-06-2015</td>\n",
       "      <td>1000000.0</td>\n",
       "    </tr>\n",
       "    <tr>\n",
       "      <th>98</th>\n",
       "      <td>/organization/123contactform</td>\n",
       "      <td>/funding-round/b678dec4e0df10e2518a81215f8fd843</td>\n",
       "      <td>angel</td>\n",
       "      <td>NaN</td>\n",
       "      <td>01-01-2010</td>\n",
       "      <td>NaN</td>\n",
       "    </tr>\n",
       "    <tr>\n",
       "      <th>99</th>\n",
       "      <td>/ORGANIZATION/123FENG-COM</td>\n",
       "      <td>/funding-round/9d83084d87dc63a309c9a6fe9bf59d1b</td>\n",
       "      <td>venture</td>\n",
       "      <td>A</td>\n",
       "      <td>27-10-2015</td>\n",
       "      <td>13000000.0</td>\n",
       "    </tr>\n",
       "  </tbody>\n",
       "</table>\n",
       "<p>100 rows × 6 columns</p>\n",
       "</div>"
      ],
      "text/plain": [
       "                      company_permalink  \\\n",
       "0                   /organization/-fame   \n",
       "1                /ORGANIZATION/-QOUNTER   \n",
       "2                /organization/-qounter   \n",
       "3   /ORGANIZATION/-THE-ONE-OF-THEM-INC-   \n",
       "4                 /organization/0-6-com   \n",
       "..                                  ...   \n",
       "95              /ORGANIZATION/1234ENTER   \n",
       "96              /organization/1234enter   \n",
       "97         /ORGANIZATION/123CONTACTFORM   \n",
       "98         /organization/123contactform   \n",
       "99            /ORGANIZATION/123FENG-COM   \n",
       "\n",
       "                            funding_round_permalink funding_round_type  \\\n",
       "0   /funding-round/9a01d05418af9f794eebff7ace91f638            venture   \n",
       "1   /funding-round/22dacff496eb7acb2b901dec1dfe5633            venture   \n",
       "2   /funding-round/b44fbb94153f6cdef13083530bb48030               seed   \n",
       "3   /funding-round/650b8f704416801069bb178a1418776b            venture   \n",
       "4   /funding-round/5727accaeaa57461bd22a9bdd945382d            venture   \n",
       "..                                              ...                ...   \n",
       "95  /funding-round/6343322ed785252d4c5ada444fa7d8e4            venture   \n",
       "96  /funding-round/ee6f9dea78c9a0697a500098a854564d               seed   \n",
       "97  /funding-round/af7382f8e3d806986796029388cb1b7f            venture   \n",
       "98  /funding-round/b678dec4e0df10e2518a81215f8fd843              angel   \n",
       "99  /funding-round/9d83084d87dc63a309c9a6fe9bf59d1b            venture   \n",
       "\n",
       "   funding_round_code   funded_at  raised_amount_usd  \n",
       "0                   B  05-01-2015         10000000.0  \n",
       "1                   A  14-10-2014                NaN  \n",
       "2                 NaN  01-03-2014           700000.0  \n",
       "3                   B  30-01-2014          3406878.0  \n",
       "4                   A  19-03-2008          2000000.0  \n",
       "..                ...         ...                ...  \n",
       "95                NaN  22-11-2013           150267.0  \n",
       "96                NaN  01-09-2012           500000.0  \n",
       "97                NaN  16-06-2015          1000000.0  \n",
       "98                NaN  01-01-2010                NaN  \n",
       "99                  A  27-10-2015         13000000.0  \n",
       "\n",
       "[100 rows x 6 columns]"
      ]
     },
     "execution_count": 86,
     "metadata": {},
     "output_type": "execute_result"
    }
   ],
   "source": [
    "df.head(100)"
   ]
  },
  {
   "cell_type": "code",
   "execution_count": 100,
   "id": "cbd3a938-2cc6-4041-a7f9-35b04c898879",
   "metadata": {},
   "outputs": [],
   "source": [
    "# Representative funding amount of venture type"
   ]
  },
  {
   "cell_type": "code",
   "execution_count": 134,
   "id": "d34d9667-20db-4bd9-94fd-41dacb6896b4",
   "metadata": {},
   "outputs": [
    {
     "data": {
      "text/plain": [
       "array(['venture', 'seed', 'undisclosed', 'equity_crowdfunding',\n",
       "       'convertible_note', 'private_equity', 'debt_financing', 'angel',\n",
       "       'grant', 'secondary_market', 'post_ipo_equity', 'post_ipo_debt',\n",
       "       'product_crowdfunding', 'non_equity_assistance'], dtype=object)"
      ]
     },
     "execution_count": 134,
     "metadata": {},
     "output_type": "execute_result"
    }
   ],
   "source": [
    "round_type=df['funding_round_type'].unique()\n",
    "round_type"
   ]
  },
  {
   "cell_type": "code",
   "execution_count": 104,
   "id": "a9d4f583-b464-401d-a293-18355028159c",
   "metadata": {},
   "outputs": [],
   "source": [
    "venture=df[df['funding_round_type']=='venture']"
   ]
  },
  {
   "cell_type": "code",
   "execution_count": 106,
   "id": "1e9472ba-7b36-4021-9b4b-c948ff61c91d",
   "metadata": {},
   "outputs": [],
   "source": [
    "venture=venture.dropna()"
   ]
  },
  {
   "cell_type": "code",
   "execution_count": 108,
   "id": "29ff9de4-b368-4c11-9a77-2c2cdac1304d",
   "metadata": {},
   "outputs": [],
   "source": [
    "venture_median=venture['raised_amount_usd'].median()"
   ]
  },
  {
   "cell_type": "code",
   "execution_count": 110,
   "id": "b4d41ec1-0d95-4b37-b04c-11555ccb3c04",
   "metadata": {},
   "outputs": [
    {
     "data": {
      "text/plain": [
       "7500000.0"
      ]
     },
     "execution_count": 110,
     "metadata": {},
     "output_type": "execute_result"
    }
   ],
   "source": [
    "venture_median"
   ]
  },
  {
   "cell_type": "code",
   "execution_count": 128,
   "id": "01506577-42ce-462b-9ae7-e7bd24e7e24c",
   "metadata": {},
   "outputs": [
    {
     "data": {
      "text/plain": [
       "1306921.0"
      ]
     },
     "execution_count": 128,
     "metadata": {},
     "output_type": "execute_result"
    }
   ],
   "source": [
    "#Representative funding amount of angle type\n",
    "angel=df[df['funding_round_type']=='angel']\n",
    "angel=angel.dropna()\n",
    "angel_median=angel['raised_amount_usd'].median()\n",
    "angel_median"
   ]
  },
  {
   "cell_type": "code",
   "execution_count": 130,
   "id": "fd7cfcf7-6073-4550-a0e0-a293bb3ad221",
   "metadata": {},
   "outputs": [
    {
     "data": {
      "text/plain": [
       "1800000.0"
      ]
     },
     "execution_count": 130,
     "metadata": {},
     "output_type": "execute_result"
    }
   ],
   "source": [
    "#Representative funding amount of seed type\n",
    "seed=df[df['funding_round_type']=='seed']\n",
    "seed=seed.dropna()\n",
    "seed_median=seed['raised_amount_usd'].median()\n",
    "seed_median"
   ]
  },
  {
   "cell_type": "code",
   "execution_count": 136,
   "id": "b94468c1-46f5-4dff-a764-dcb4a07e7bfa",
   "metadata": {},
   "outputs": [
    {
     "data": {
      "text/plain": [
       "1800000.0"
      ]
     },
     "execution_count": 136,
     "metadata": {},
     "output_type": "execute_result"
    }
   ],
   "source": [
    "# Representative funding amount of private_equity type\n",
    "private_equity=df[df['funding_round_type']=='private_equity']\n",
    "private_equity=seed.dropna()\n",
    "private_equity_median=private_equity['raised_amount_usd'].median()\n",
    "private_equity_median"
   ]
  },
  {
   "cell_type": "code",
   "execution_count": 142,
   "id": "3c31fd3b-4db7-4ab7-9b1d-590c2a898042",
   "metadata": {},
   "outputs": [
    {
     "name": "stdout",
     "output_type": "stream",
     "text": [
      "Venture is suitable for investment.\n",
      "Investment amount:7500000.0\n"
     ]
    }
   ],
   "source": [
    "# Considering that Spark Funds wants to invest between 5 to 15 million USD per investment round, which investment type is the most suitable for them?\n",
    "investment_dict={\n",
    "    0:\"Venture\",\n",
    "    1:\"angel\",\n",
    "    2:\"seed\",\n",
    "    3:\"private_equity\"\n",
    "}\n",
    "investment_list=[venture_median,angel_median,seed_median,private_equity_median]\n",
    "for i in range(len(investment_list)):\n",
    "    if investment_list[i]>=5000000 and investment_list[i]<=15000000:\n",
    "        print(f\"{investment_dict[i]} is suitable for investment.\\nInvestment amount:{investment_list[i]}\")\n"
   ]
  },
  {
   "cell_type": "code",
   "execution_count": null,
   "id": "5b5d7c03-5337-4c55-aa82-c2fc7f69f5be",
   "metadata": {},
   "outputs": [],
   "source": []
  }
 ],
 "metadata": {
  "kernelspec": {
   "display_name": "Python 3 (ipykernel)",
   "language": "python",
   "name": "python3"
  },
  "language_info": {
   "codemirror_mode": {
    "name": "ipython",
    "version": 3
   },
   "file_extension": ".py",
   "mimetype": "text/x-python",
   "name": "python",
   "nbconvert_exporter": "python",
   "pygments_lexer": "ipython3",
   "version": "3.12.4"
  }
 },
 "nbformat": 4,
 "nbformat_minor": 5
}
